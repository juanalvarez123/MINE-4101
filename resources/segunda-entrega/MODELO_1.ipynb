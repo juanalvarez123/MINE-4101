{
  "cells": [
    {
      "cell_type": "markdown",
      "metadata": {
        "id": "Q7ffxRZZbhIP"
      },
      "source": [
        "<img src=\"https://lh3.googleusercontent.com/drive-viewer/AJc5JmT3-KppjOXJ81Wj6MqcvqmKe2VbLzFP2fJRaXQSvPXxO4JfPi9jrca4-m6yfYWEYZm38rE0M30=w3584-h1706\" ><br>\n",
        "\n",
        "\n",
        "\n"
      ]
    },
    {
      "cell_type": "markdown",
      "metadata": {
        "id": "v-WNcWPXIiWn"
      },
      "source": [
        "# PROYECTO FINAL - SEGUNDA ENTREGA - MODELO 1\n",
        "\n",
        "Integrantes:\n",
        "\n",
        "Juan Sebastian Alvarez Eraso\n",
        "\n",
        "Rafael Camilo Tejon Rojas\n",
        "\n",
        "Oscar Javier Angel Balcázar"
      ]
    },
    {
      "cell_type": "markdown",
      "metadata": {
        "id": "jJ4ivd8RJ9OO"
      },
      "source": [
        "**Objetivos**\n",
        "\n",
        "- Finalizar las actividades de entendimiento de los datos y enfoque analítico así como el alcance general del proyecto.\n",
        "- Realizar la preparación de datos requerida para la construcción de un modelo basado en machine learning.\n",
        "- Entrenar un primer modelo de machine learning a partir del enfoque analítico\n",
        "definido y realizar una primera evaluación de resultados.\n",
        "\n",
        "**Segundo Sprint del proyecto**\n",
        "\n",
        "● El proyecto se debe enfocar en la preparación de datos y construcción\n",
        "de un primer modelo predictivo o explicativo basado en regresión, clasificación o alguna otra técnica analítica previamente discutida con los docentes. \n",
        "\n"
      ]
    },
    {
      "cell_type": "markdown",
      "metadata": {
        "id": "qNEqUj0W_NKq"
      },
      "source": [
        "#### **Problemática seleccionada**\n",
        "\n",
        "Después de una investigación en diferentes temáticas seleccionamos un Dataset con datos de hurtos de la ciudad de Medellín."
      ]
    },
    {
      "cell_type": "markdown",
      "metadata": {
        "id": "ur_GOE_--cAR"
      },
      "source": [
        "**Descripción del Dataset**\n",
        "\n",
        "Para este taller se utilizarán el siguiente Dataset:\n",
        "\n",
        "\n",
        "1. Hurto registrados por la Policía Nacional en la ciudad de Medellín<sup>1</sup> cometidos contra personas en espacio público.\n",
        "\n",
        " **Diccionario de Datos:**\n",
        "\n",
        "\n",
        "| Nombre | Tipo |Descripción |\n",
        "|--------|------|------------|\n",
        "| SEXO | string  | sexo de la víctima, o cuando lo que se mide es la comisión de un delito del presunto indiciado.|\n",
        "| EDAD | number |\tedad de la víctima, o cuando lo que se mide es la comisión de un delito, será del presunto indiciado.|\n",
        "| ESTADO_CIVIL | string  | estado civil de la víctima, o cuando lo que se mide es la comisión de un delito, será del presunto indiciado.|\n",
        "| GRUPO_ACTOR | string  | de la víctima, o cuando lo que se mide es la comisión de un delito, será del presunto indiciado. El grupo actor indica el grupo ej. Guerrilla, Paramilitares etc.|\n",
        "| ACTIVIDAD_DELICTIVA | string  | actividad ilegal a la que se dedica la víctima o el presunto indiciado. Mirar en contexto con conducta.|\n",
        "| PARENTESCO | string  | parentesco entre la víctima y el presunto indiciado.|\n",
        "| OCUPACION | string  | ocupación de la víctima o del presunto indiciado, Mirar en contexto con conducta.|\n",
        "| DISCAPACIDAD | string  | condición de movilidad reducida de la víctima o indiciado.|\n",
        "| GRUPO_ESPECIAL | string  | indica grupos especiales, que están asociados de por vida a la persona y que hacen que sean más vulnerables a un hecho en particular.|\n",
        "| MEDIO_TRANSPORTE | string  | medio transporte donde se movilizaba la víctima o el presunto indiciado según el caso.|\n",
        "| NIVEL_ACADEMICO | string  | nivel acádemico de la víctima o el presunto indiciado según el caso.|\n",
        "| TESTIGO | string  | indica si hubo o no un testigo de los hechos.|\n",
        "| NOMBRE_BARRIO | string  | nombre del barrio donde ocurrieron los hechos.|\n",
        "| CODIGO_BARRIO | string  | código del barrio donde ocurrieron los hechos.|\n",
        "| CODIGO_COMUNA | string  | código de la comuna donde ocurrieron los hechos.|\n",
        "| LUGAR | string  | lugar donde ocurrieron los hechos. El lugar es una tipificación del urbanismo más cercano al hecho.|\n",
        "| SEDE_RECEPTORA | string  | entidad que recepcionó el caso.|\n",
        "| CONDUCTA | string  | es el inventario de indicadores o hechos asociados a la seguridad y convivencia.|\n",
        "| MODALIDAD | string  | es la forma como se materializa el hecho.|\n",
        "| CARACTERIZACION | string  | variable que permite analizar y tipificar la conducta.|\n",
        "| CONDUCTA_ESPECIAL | string  | una forma de caracterización adicional.|\n",
        "| ARMA_MEDIO | string  | es el arma, medio o mecanísmo con el que se comete el hecho.|\n",
        "| ARTICULO_PENAL | string  | artículos del código penal o del código de contravenciones de Policía.|\n",
        "| CATEGORIA_PENAL | string  | caracterización de algunos tipos penales.|\n",
        "| BIEN | string  | nombre del bien.|\n",
        "| CATEGORIA_BIEN | string  | agrupación de bienes, nivel intermedio de agregación.|\n",
        "| GRUPO_BIEN | string  | agrupación de bienes, nivel alto de agregación.|\n",
        "| MODELO | string  | modelo del bien.|\n",
        "| COLOR | string  | color del bien.|\n",
        "| PERMISO | string  | tipo de permiso de porte que tiene el bien.|\n",
        "| UNIDAD_MEDIDA | string  | unidad del bien.|\n",
        "| FECHA_HECHO\t| date | fecha en que ocurrió el hecho.|\n",
        "| LATITUD\t| number |\tlatitud geográfica sistema de coordenadas wgs84\t|\n",
        "| LONGITUD | number |\tlongitud geográfica sistema de coordenadas wgs84\t|\n",
        "| CASO | number |\t1: indicará el caso, 0: podría indicar bienes o persona, dependiendo de la conducta que se busca analizar, es decir si el hecho es contra la vida y la integridad personal o es contra el patrimonio.|\n",
        "| VALOR | number |\tvalor de uso del bien.|\n",
        "| CANTIDAD | number |\tcantidad que debe ser entendida en el contexto de la unidad de medida.|"
      ]
    },
    {
      "cell_type": "markdown",
      "metadata": {
        "id": "4srdOejpPYRc"
      },
      "source": [
        "#### **Lectura y Análisis del Dataset.**"
      ]
    },
    {
      "cell_type": "markdown",
      "metadata": {
        "id": "697V78amMRup"
      },
      "source": [
        "##### Importar librerías"
      ]
    },
    {
      "cell_type": "code",
      "execution_count": null,
      "metadata": {
        "id": "as0h6P-yNY9J"
      },
      "outputs": [],
      "source": [
        "import pandas as pd\n",
        "from pandas_profiling import ProfileReport\n",
        "import pandas as pd\n",
        "import plotly.express as px\n",
        "from plotly.offline import init_notebook_mode, iplot, plot\n",
        "import matplotlib.pyplot as plt\n",
        "import numpy as np\n",
        "import seaborn as sns\n",
        "\n",
        "from sklearn.preprocessing import OrdinalEncoder\n",
        "from sklearn.linear_model import LinearRegression, SGDRegressor\n",
        "from sklearn.compose import make_column_transformer\n",
        "from sklearn.preprocessing import StandardScaler, PolynomialFeatures\n",
        "from sklearn.model_selection import train_test_split\n",
        "from sklearn.metrics import mean_squared_error, mean_absolute_error\n",
        "# Configuración de pandas para extender el número de filas y columnas en la visualización\n",
        "pd.set_option('display.max_rows', 100)\n",
        "pd.set_option('display.max_columns', 100)"
      ]
    },
    {
      "cell_type": "markdown",
      "metadata": {
        "id": "4N59Cuz-Nyjy"
      },
      "source": [
        "##### Lectura del Dataset"
      ]
    },
    {
      "cell_type": "code",
      "execution_count": null,
      "metadata": {
        "colab": {
          "base_uri": "https://localhost:8080/"
        },
        "id": "vk26bogEVUix",
        "outputId": "ccbec576-78c4-4de3-bc96-f1eec8398f17"
      },
      "outputs": [
        {
          "output_type": "stream",
          "name": "stderr",
          "text": [
            "/usr/local/lib/python3.7/dist-packages/IPython/core/interactiveshell.py:3326: FutureWarning:\n",
            "\n",
            "The error_bad_lines argument has been deprecated and will be removed in a future version.\n",
            "\n",
            "\n",
            "\n",
            "/usr/local/lib/python3.7/dist-packages/IPython/core/interactiveshell.py:3326: DtypeWarning:\n",
            "\n",
            "Columns (20) have mixed types.Specify dtype option on import or set low_memory=False.\n",
            "\n"
          ]
        }
      ],
      "source": [
        "# Loading the CSV file as dataframe\n",
        "med_hurto_df = pd.read_csv('https://raw.githubusercontent.com/juanalvarez123/MINE-4101-proyecto-final/main/data/hurto_a_persona_medellin.csv', delimiter=\";\", error_bad_lines=False)"
      ]
    },
    {
      "cell_type": "code",
      "execution_count": null,
      "metadata": {
        "colab": {
          "base_uri": "https://localhost:8080/"
        },
        "id": "gWN3hoAhPn3s",
        "outputId": "3a626aa2-e9af-4915-c078-3f010cd4b8d1"
      },
      "outputs": [
        {
          "output_type": "execute_result",
          "data": {
            "text/plain": [
              "(280870, 31)"
            ]
          },
          "metadata": {},
          "execution_count": 4
        }
      ],
      "source": [
        "med_hurto_df.shape"
      ]
    },
    {
      "cell_type": "markdown",
      "metadata": {
        "id": "1EOqXywsRboQ"
      },
      "source": [
        "\n",
        "***Tipos de Variables***\n",
        "\n",
        "\n",
        "| Nombre | Tipo de Variable|\n",
        "|--------|---------|\n",
        "| SEXO | Cualitativa Nominal|\n",
        "| EDAD | Cuantitativa Continua  |\n",
        "| ESTADO_CIVIL | Cualitativa Nominal |\n",
        "| GRUPO_ACTOR | Cualitativa Nominal|\n",
        "| ACTIVIDAD_DELICTIVA | Cualitativa Nominal|\n",
        "| PARENTESCO | Cualitativa Nominal|\n",
        "| OCUPACION | Cualitativa Nominal|\n",
        "| DISCAPACIDAD | Cualitativa Nominal|\n",
        "| GRUPO_ESPECIAL | Cualitativa Nominal|\n",
        "| MEDIO_TRANSPORTE | Cualitativa Nominal|\n",
        "| NIVEL_ACADEMICO | Cualitativa Ordinal|\n",
        "| TESTIGO | Cualitativa Nominal|\n",
        "| NOMBRE_BARRIO | Cualitativa Nominal|\n",
        "| CODIGO_BARRIO | Cualitativa Nominal|\n",
        "| CODIGO_COMUNA | Cualitativa Ordinal|\n",
        "| LUGAR | Cualitativa Nominal|\n",
        "| SEDE_RECEPTORA | Cualitativa Nominal|\n",
        "| CONDUCTA | Cualitativa Nominal|\n",
        "| MODALIDAD | Cualitativa Nominal|\n",
        "| CARACTERIZACION | Cualitativa Nominal|\n",
        "| CONDUCTA_ESPECIAL | Cualitativa Nominal|\n",
        "| ARMA_MEDIO | Cualitativa Nominal|\n",
        "| ARTICULO_PENAL | Cualitativa Nominal|\n",
        "| CATEGORIA_PENAL | Cualitativa Nominal|\n",
        "| BIEN | Cualitativa Nominal|\n",
        "| CATEGORIA_BIEN | Cualitativa Nominal|\n",
        "| GRUPO_BIEN | Cualitativa Nominal|\n",
        "| MODELO | Cualitativa Nominal|\n",
        "| COLOR | Cualitativa Nominal|\n",
        "| PERMISO | Cualitativa Nominal|\n",
        "| UNIDAD_MEDIDA | Cualitativa Nominal|\n",
        "| FECHA_HECHO\t| Cualitativa Ordinal|\n",
        "| LATITUD\t| Cuantitativa Continua|\n",
        "| LONGITUD\t| Cuantitativa Continua|\n",
        "| CASO | Cualitativa Nominal|\n",
        "| VALOR | Cualitativa Ordinal|\n",
        "| CANTIDAD | Cualitativa Ordinal|"
      ]
    },
    {
      "cell_type": "markdown",
      "metadata": {
        "id": "TswuUi-xqWYI"
      },
      "source": [
        "# ***Limpieza de Datos***\n",
        "\n",
        "A continuación se eliminarán las variables nulas del dataframe o columnas que tienen un unico valor constante como la cantidad de objetos hurtados que siempre es uno dentro del archivo."
      ]
    },
    {
      "cell_type": "code",
      "execution_count": null,
      "metadata": {
        "colab": {
          "base_uri": "https://localhost:8080/"
        },
        "id": "wtuun6iYypeX",
        "outputId": "2c592228-51eb-4b18-c656-e04f3f4cab80"
      },
      "outputs": [
        {
          "output_type": "execute_result",
          "data": {
            "text/plain": [
              "(280870, 17)"
            ]
          },
          "metadata": {},
          "execution_count": 6
        }
      ],
      "source": [
        "med_hurto_df = med_hurto_df.drop(['cantidad','parentesco','nivel_academico','testigo','conducta','caracterizacion','modelo','grupo_bien'], axis=1)\n",
        "med_hurto_df = med_hurto_df.drop(['articulo_penal','categoria_penal','permiso','unidad_medida','fecha_ingestion','color'], axis=1)\n",
        "med_hurto_df.shape"
      ]
    },
    {
      "cell_type": "markdown",
      "metadata": {
        "id": "xSqd9jfH1wr6"
      },
      "source": [
        "Se cambia el tipo de dato de la columna \"codigo_columna\" a string ya que algunos datos los toma como númericos y otros cómo cadena de texto siendo los mismos "
      ]
    },
    {
      "cell_type": "code",
      "execution_count": null,
      "metadata": {
        "colab": {
          "base_uri": "https://localhost:8080/"
        },
        "id": "aalZ7GcvUXEK",
        "outputId": "d97ed5f6-4811-4cc7-e71d-77feb47be059"
      },
      "outputs": [
        {
          "output_type": "execute_result",
          "data": {
            "text/plain": [
              "array(['9', '4', '3', '13', '10', '11', '5', '6', '2', '16', '14', '8',\n",
              "       '7', '12', '1', '15', 'SIN DATO', '90', '80', '70', '60', '50'],\n",
              "      dtype=object)"
            ]
          },
          "metadata": {},
          "execution_count": 7
        }
      ],
      "source": [
        "med_hurto_df['codigo_comuna'] = med_hurto_df['codigo_comuna'].astype(str)\n",
        "comunas = med_hurto_df.codigo_comuna.unique()\n",
        "comunas"
      ]
    },
    {
      "cell_type": "code",
      "execution_count": null,
      "metadata": {
        "colab": {
          "base_uri": "https://localhost:8080/"
        },
        "id": "cJ7zUvMRCs3D",
        "outputId": "170efdc4-dd3e-41f6-fc78-17ae825a9e4a"
      },
      "outputs": [
        {
          "output_type": "execute_result",
          "data": {
            "text/plain": [
              "array(['Descuido', 'Raponazo', 'Atraco', 'Cosquilleo',\n",
              "       'Clonación de tarjeta', 'Engaño', 'Retención de dinero',\n",
              "       'Rompimiento de ventana', 'Informático', 'Escopolamina',\n",
              "       'Sin dato', 'Suplantación', 'Llamada millonaria',\n",
              "       'Retención de tarjeta', 'Paquete chileno', 'Abuso de confianza',\n",
              "       'Halado', 'Simulando necesidad', 'Rompimiento cerraduta',\n",
              "       'Comisión de delito', 'Llave maestra', 'Fleteo', 'Clásica',\n",
              "       'Tóxico o agente químico', 'Violencia intrafamiliar',\n",
              "       'Enfrentamiento con la fuerza pública', 'Miedo o terror',\n",
              "       'Vandalismo', 'Forcejeo', 'Auto robo'], dtype=object)"
            ]
          },
          "metadata": {},
          "execution_count": 8
        }
      ],
      "source": [
        "modalidades = med_hurto_df.modalidad.unique()\n",
        "modalidades"
      ]
    },
    {
      "cell_type": "markdown",
      "metadata": {
        "id": "E4PpxnkR3xjq"
      },
      "source": [
        "Se transformaron a minúsculas todas las columnas para evitar tener algunos barrios/localidades en mayúsculas y minúsculas y obtener datos errados en otra posible categoría."
      ]
    },
    {
      "cell_type": "code",
      "execution_count": null,
      "metadata": {
        "id": "NvoDwrrzWeHV"
      },
      "outputs": [],
      "source": [
        "med_hurto_df['codigo_comuna'] = med_hurto_df['codigo_comuna'].str.lower()\n",
        "med_hurto_df['codigo_comuna'] = med_hurto_df['codigo_comuna'].str.strip()\n",
        "med_hurto_df['sexo'] = med_hurto_df['sexo'].str.lower()\n",
        "med_hurto_df['sexo'] = med_hurto_df['sexo'].str.strip()\n",
        "med_hurto_df['estado_civil'] = med_hurto_df['estado_civil'].str.lower()\n",
        "med_hurto_df['estado_civil'] = med_hurto_df['estado_civil'].str.strip()\n",
        "med_hurto_df['nombre_barrio'] = med_hurto_df['nombre_barrio'].str.lower()\n",
        "med_hurto_df['nombre_barrio'] = med_hurto_df['nombre_barrio'].str.strip()\n",
        "med_hurto_df['arma_medio'] = med_hurto_df['arma_medio'].str.lower()\n",
        "med_hurto_df['arma_medio'] = med_hurto_df['arma_medio'].str.strip()\n",
        "med_hurto_df['medio_transporte'] = med_hurto_df['medio_transporte'].str.lower()\n",
        "med_hurto_df['medio_transporte'] = med_hurto_df['medio_transporte'].str.strip()\n",
        "med_hurto_df['modalidad'] = med_hurto_df['modalidad'].str.lower()\n",
        "med_hurto_df['modalidad'] = med_hurto_df['modalidad'].str.strip()\n",
        "med_hurto_df['codigo_barrio'] = med_hurto_df['codigo_barrio'].str.lower()\n",
        "med_hurto_df['codigo_barrio'] = med_hurto_df['codigo_barrio'].str.strip()\n",
        "med_hurto_df['lugar'] = med_hurto_df['lugar'].str.lower()\n",
        "med_hurto_df['lugar'] = med_hurto_df['lugar'].str.strip()\n",
        "med_hurto_df['bien'] = med_hurto_df['bien'].str.lower()\n",
        "med_hurto_df['bien'] = med_hurto_df['bien'].str.strip()\n",
        "med_hurto_df['categoria_bien'] = med_hurto_df['categoria_bien'].str.lower()\n",
        "med_hurto_df['categoria_bien'] = med_hurto_df['categoria_bien'].str.strip()\n",
        "med_hurto_df['bien'] = med_hurto_df['bien'].replace('peso','efectivo')"
      ]
    },
    {
      "cell_type": "markdown",
      "metadata": {
        "id": "1bMxV1wmIVaZ"
      },
      "source": [
        "# ****Preparación de los datos****"
      ]
    },
    {
      "cell_type": "code",
      "source": [
        "# Se estadarizan las cadenas que tenemos como fechas para poder transformarlas correctamente\n",
        "med_hurto_df['fecha_hecho'] = med_hurto_df['fecha_hecho'].apply(lambda x: x.replace('.000', ''))\n",
        "med_hurto_df['fecha_hecho'] = med_hurto_df['fecha_hecho'].apply(lambda x: x.replace('T', ' '))\n",
        "med_hurto_df['fecha_hecho'] = med_hurto_df['fecha_hecho'].apply(lambda x: x.replace('-05:00', ''))\n",
        "med_hurto_df['fecha_hecho'] = pd.to_datetime(med_hurto_df['fecha_hecho'], format='%Y-%m-%d')\n",
        "\n",
        "import calendar\n",
        "\n",
        "med_hurto_df['dia'] = med_hurto_df['fecha_hecho'].apply(lambda x: x.day)\n",
        "med_hurto_df['mes'] = med_hurto_df['fecha_hecho'].apply(lambda x: x.month)\n",
        "med_hurto_df['anio'] = med_hurto_df['fecha_hecho'].apply(lambda x: x.year)\n",
        "med_hurto_df['dia_semana'] = med_hurto_df['fecha_hecho'].dt.dayofweek"
      ],
      "metadata": {
        "id": "68YBS7QaHLN5"
      },
      "execution_count": null,
      "outputs": []
    },
    {
      "cell_type": "code",
      "source": [
        "# Se identifican los diferentes años para realizar el análsis\n",
        "med_hurto_df['anio'].unique()"
      ],
      "metadata": {
        "colab": {
          "base_uri": "https://localhost:8080/"
        },
        "id": "HCIwEbb-TaXE",
        "outputId": "e1e74b4b-1db8-4615-96da-164cc3de3c00"
      },
      "execution_count": null,
      "outputs": [
        {
          "output_type": "execute_result",
          "data": {
            "text/plain": [
              "array([2012, 2013, 2014, 2015, 2016, 2020, 2019, 2018, 2021, 2022, 2017,\n",
              "       2003, 2004, 2005, 2006, 2007, 2008, 2009, 2010, 2011])"
            ]
          },
          "metadata": {},
          "execution_count": 11
        }
      ]
    },
    {
      "cell_type": "code",
      "source": [
        "# Se agrega un nuevo feature para saber si esa fecha correspondía a un día festivo\n",
        "festivos_colombia_df = pd.read_csv('https://raw.githubusercontent.com/juanalvarez123/MINE-4101-proyecto-final/main/data/festivos_colombia_v2.csv')\n",
        "\n",
        "festivos_colombia_df['fecha'] = pd.to_datetime(festivos_colombia_df['fecha'])\n",
        "def is_holliday(fecha):\n",
        "  is_holliday = festivos_colombia_df.loc[(festivos_colombia_df['fecha'] == fecha)]\n",
        "  if (len(is_holliday) >= 1):\n",
        "    return 1\n",
        "  else:\n",
        "    return 0\n",
        "\n",
        "med_hurto_df['festivo'] = med_hurto_df.apply(lambda x: is_holliday(x.fecha_hecho), axis=1)"
      ],
      "metadata": {
        "id": "lN6zttFgtqNS"
      },
      "execution_count": null,
      "outputs": []
    },
    {
      "cell_type": "markdown",
      "source": [
        "Para los días Festivos se agregó un listado de días festivos en Colombia y se validó día por día.\n",
        "\n",
        " 0 : Día Festivo.\n",
        "\n",
        " 1 : Dia NO festivo.\n"
      ],
      "metadata": {
        "id": "8T1swy3F5l_3"
      }
    },
    {
      "cell_type": "code",
      "source": [
        "# Se elimina el '#' del código del barrio\n",
        "med_hurto_df['codigo_barrio'] = med_hurto_df['codigo_barrio'].apply(lambda x: x.replace('#', ''))"
      ],
      "metadata": {
        "id": "h7fbRqnBtsSi"
      },
      "execution_count": null,
      "outputs": []
    },
    {
      "cell_type": "code",
      "source": [
        "# Se realiza clasificación de Hurtos\n",
        "# Se define una lista de las modalidades que se considerarpon como peligrosas a pàrtir de esta se agrega una nueva columna en el dataframe.\n",
        "modalidades_peligrosas = ['atraco', 'rompimiento de ventana', 'escopolamina', 'fleteo', 'tóxico o agente químico', 'miedo o terror', 'vandalismo', 'forcejeo', 'halado', 'rompimiento cerraduta']\n",
        "\n",
        "def tipo_modalidad(modalidad):\n",
        "  ndx = -1\n",
        "  try:\n",
        "    ndx = modalidades_peligrosas.index(modalidad)\n",
        "  except:\n",
        "    ndx = -1\n",
        "  if ndx>=0:\n",
        "    return 1 # Las modalidades peligrosas se identificarán con el número 1\n",
        "  else:\n",
        "    return 0 # Las modalidades NO peligrosas se identificarán con el número 0\n",
        "\n",
        "med_hurto_df['tipo_modalidad'] = med_hurto_df.apply(lambda x: tipo_modalidad(x.modalidad), axis=1)"
      ],
      "metadata": {
        "id": "PICSfeYrtwGV"
      },
      "execution_count": null,
      "outputs": []
    },
    {
      "cell_type": "code",
      "source": [
        "# Clasificación Tipo de transporte\n",
        "# Se define una lista con los tipos de transporte y estos son agregados a una nueva columna en el dataframe.\n",
        "tipos_transporte = {'taxi': 0, 'autobus': 0, 'metro': 0, 'automóvil': 1, 'motocicleta': 1, 'motocicleta con parrillero': 1, 'bicicleta': 1, 'caminata': 2}\n",
        "\n",
        "def tipo_transporte(tipo):\n",
        "  ndx = -1\n",
        "  try:\n",
        "    return tipos_transporte[tipo]\n",
        "  except:\n",
        "    return 2\n",
        "\n",
        "med_hurto_df['tipo_medio_transp'] = med_hurto_df.apply(lambda x: tipo_transporte(x.medio_transporte), axis=1)"
      ],
      "metadata": {
        "id": "aQ4r6E0_2SQE"
      },
      "execution_count": null,
      "outputs": []
    },
    {
      "cell_type": "markdown",
      "source": [
        "Se definieron los siguientes grupos de transporte\n",
        "\n",
        "Grupo 0 : Transporte público\n",
        "\n",
        "Grupo 1 : Transporte particular.\n",
        "\n",
        "Grupo 2 : Via pública"
      ],
      "metadata": {
        "id": "lreFcgJK3_0D"
      }
    },
    {
      "cell_type": "code",
      "source": [
        "# Clasificación Edades\n",
        "def gruposEdad(edad):\n",
        "  if (edad<12):\n",
        "    return 0\n",
        "  elif (edad> 11 and edad<19):\n",
        "    return 1\n",
        "  elif (edad>18 and edad<61):\n",
        "    return 2\n",
        "  else:\n",
        "    return 3\n",
        "\n",
        "med_hurto_df['grupo_edad'] = med_hurto_df.apply(lambda x: gruposEdad(x.edad), axis=1)"
      ],
      "metadata": {
        "id": "eQWVbjdVO_jG"
      },
      "execution_count": null,
      "outputs": []
    },
    {
      "cell_type": "markdown",
      "source": [
        "Se definieron los siguientes grupos de transporte\n",
        "\n",
        "Grupo 0 : Niños 0 - 11 Años\n",
        "\n",
        "Grupo 1 : Jovenes 12 - 18 Años\n",
        "\n",
        "Grupo 2 : Adultos 19 - 60 Años\n",
        "\n",
        "Grupo 3 : Adulto Mayor desde los 61 años"
      ],
      "metadata": {
        "id": "QP08L4qOO_jI"
      }
    },
    {
      "cell_type": "code",
      "source": [
        "# Clasificación Armas \n",
        "# Se define una lista de las armas que se consideran como peligrosas a partir de esta se agrega una nueva columna en el dataframe.\n",
        "modalidades_peligrosas = ['arma de fuego', 'objeto contundente', 'arma cortopunzante', 'escopolamina', 'tóxico o agente químico']\n",
        "\n",
        "def tipo_modalidad(modalidad):\n",
        "  ndx = -1\n",
        "  try:\n",
        "    ndx = modalidades_peligrosas.index(modalidad)\n",
        "  except:\n",
        "    ndx = -1\n",
        "  if ndx>=0:\n",
        "    return 0 # Armas peligrosas se identificarán con el número 0\n",
        "  else:\n",
        "    return 1 # Armas NO peligrosas se identificarán con el número 1\n",
        "\n",
        "med_hurto_df['tipo_arma'] = med_hurto_df.apply(lambda x: tipo_modalidad(x.modalidad), axis=1)"
      ],
      "metadata": {
        "id": "Vpv0GmH2XB5h"
      },
      "execution_count": null,
      "outputs": []
    },
    {
      "cell_type": "markdown",
      "source": [
        "Se definieron los siguientes grupos de armas:\n",
        "\n",
        "Grupo 0 : Armas peligrosas\n",
        "\n",
        "Grupo 1 : Armas NO peligrosas"
      ],
      "metadata": {
        "id": "2YtblbEKXB5j"
      }
    },
    {
      "cell_type": "code",
      "source": [
        "# Aquí se deben hacer los agrupamientos y el count (cnt)\n",
        "med_hurto_group_df = med_hurto_df.groupby(['codigo_comuna','codigo_barrio','tipo_modalidad','dia_semana','festivo','tipo_medio_transp','tipo_arma','sexo','grupo_edad']).agg({'fecha_hecho': ['count']})\n",
        "med_hurto_group_df.reset_index(inplace=True)\n",
        "med_hurto_group_df.columns = ['codigo_comuna','codigo_barrio','tipo_modalidad','dia_semana','festivo','tipo_medio_transp','tipo_arma','sexo','grupo_edad','hurtos']\n",
        "med_hurto_group_df"
      ],
      "metadata": {
        "id": "MBiuPZagtyR5",
        "colab": {
          "base_uri": "https://localhost:8080/",
          "height": 424
        },
        "outputId": "c1033bd0-157a-4a6a-f4da-3d14d8799eb2"
      },
      "execution_count": null,
      "outputs": [
        {
          "output_type": "execute_result",
          "data": {
            "text/plain": [
              "      codigo_comuna codigo_barrio  tipo_modalidad  dia_semana  festivo  \\\n",
              "0                 1          0101               0           0        0   \n",
              "1                 1          0101               0           0        0   \n",
              "2                 1          0101               0           0        0   \n",
              "3                 1          0101               0           0        0   \n",
              "4                 1          0101               0           0        0   \n",
              "...             ...           ...             ...         ...      ...   \n",
              "26491      sin dato      sin dato               1           6        0   \n",
              "26492      sin dato      sin dato               1           6        0   \n",
              "26493      sin dato      sin dato               1           6        0   \n",
              "26494      sin dato      sin dato               1           6        0   \n",
              "26495      sin dato      sin dato               1           6        0   \n",
              "\n",
              "       tipo_medio_transp  tipo_arma    sexo  grupo_edad  hurtos  \n",
              "0                      0          1  hombre           2       2  \n",
              "1                      0          1   mujer           2       3  \n",
              "2                      2          1  hombre           1       1  \n",
              "3                      2          1  hombre           2       8  \n",
              "4                      2          1  hombre           3       3  \n",
              "...                  ...        ...     ...         ...     ...  \n",
              "26491                  0          1   mujer           2       3  \n",
              "26492                  1          1  hombre           2       3  \n",
              "26493                  1          1   mujer           2       3  \n",
              "26494                  2          1  hombre           2       4  \n",
              "26495                  2          1   mujer           2       4  \n",
              "\n",
              "[26496 rows x 10 columns]"
            ],
            "text/html": [
              "\n",
              "  <div id=\"df-e7cc0cb6-e15f-4241-a819-e33e89800ae0\">\n",
              "    <div class=\"colab-df-container\">\n",
              "      <div>\n",
              "<style scoped>\n",
              "    .dataframe tbody tr th:only-of-type {\n",
              "        vertical-align: middle;\n",
              "    }\n",
              "\n",
              "    .dataframe tbody tr th {\n",
              "        vertical-align: top;\n",
              "    }\n",
              "\n",
              "    .dataframe thead th {\n",
              "        text-align: right;\n",
              "    }\n",
              "</style>\n",
              "<table border=\"1\" class=\"dataframe\">\n",
              "  <thead>\n",
              "    <tr style=\"text-align: right;\">\n",
              "      <th></th>\n",
              "      <th>codigo_comuna</th>\n",
              "      <th>codigo_barrio</th>\n",
              "      <th>tipo_modalidad</th>\n",
              "      <th>dia_semana</th>\n",
              "      <th>festivo</th>\n",
              "      <th>tipo_medio_transp</th>\n",
              "      <th>tipo_arma</th>\n",
              "      <th>sexo</th>\n",
              "      <th>grupo_edad</th>\n",
              "      <th>hurtos</th>\n",
              "    </tr>\n",
              "  </thead>\n",
              "  <tbody>\n",
              "    <tr>\n",
              "      <th>0</th>\n",
              "      <td>1</td>\n",
              "      <td>0101</td>\n",
              "      <td>0</td>\n",
              "      <td>0</td>\n",
              "      <td>0</td>\n",
              "      <td>0</td>\n",
              "      <td>1</td>\n",
              "      <td>hombre</td>\n",
              "      <td>2</td>\n",
              "      <td>2</td>\n",
              "    </tr>\n",
              "    <tr>\n",
              "      <th>1</th>\n",
              "      <td>1</td>\n",
              "      <td>0101</td>\n",
              "      <td>0</td>\n",
              "      <td>0</td>\n",
              "      <td>0</td>\n",
              "      <td>0</td>\n",
              "      <td>1</td>\n",
              "      <td>mujer</td>\n",
              "      <td>2</td>\n",
              "      <td>3</td>\n",
              "    </tr>\n",
              "    <tr>\n",
              "      <th>2</th>\n",
              "      <td>1</td>\n",
              "      <td>0101</td>\n",
              "      <td>0</td>\n",
              "      <td>0</td>\n",
              "      <td>0</td>\n",
              "      <td>2</td>\n",
              "      <td>1</td>\n",
              "      <td>hombre</td>\n",
              "      <td>1</td>\n",
              "      <td>1</td>\n",
              "    </tr>\n",
              "    <tr>\n",
              "      <th>3</th>\n",
              "      <td>1</td>\n",
              "      <td>0101</td>\n",
              "      <td>0</td>\n",
              "      <td>0</td>\n",
              "      <td>0</td>\n",
              "      <td>2</td>\n",
              "      <td>1</td>\n",
              "      <td>hombre</td>\n",
              "      <td>2</td>\n",
              "      <td>8</td>\n",
              "    </tr>\n",
              "    <tr>\n",
              "      <th>4</th>\n",
              "      <td>1</td>\n",
              "      <td>0101</td>\n",
              "      <td>0</td>\n",
              "      <td>0</td>\n",
              "      <td>0</td>\n",
              "      <td>2</td>\n",
              "      <td>1</td>\n",
              "      <td>hombre</td>\n",
              "      <td>3</td>\n",
              "      <td>3</td>\n",
              "    </tr>\n",
              "    <tr>\n",
              "      <th>...</th>\n",
              "      <td>...</td>\n",
              "      <td>...</td>\n",
              "      <td>...</td>\n",
              "      <td>...</td>\n",
              "      <td>...</td>\n",
              "      <td>...</td>\n",
              "      <td>...</td>\n",
              "      <td>...</td>\n",
              "      <td>...</td>\n",
              "      <td>...</td>\n",
              "    </tr>\n",
              "    <tr>\n",
              "      <th>26491</th>\n",
              "      <td>sin dato</td>\n",
              "      <td>sin dato</td>\n",
              "      <td>1</td>\n",
              "      <td>6</td>\n",
              "      <td>0</td>\n",
              "      <td>0</td>\n",
              "      <td>1</td>\n",
              "      <td>mujer</td>\n",
              "      <td>2</td>\n",
              "      <td>3</td>\n",
              "    </tr>\n",
              "    <tr>\n",
              "      <th>26492</th>\n",
              "      <td>sin dato</td>\n",
              "      <td>sin dato</td>\n",
              "      <td>1</td>\n",
              "      <td>6</td>\n",
              "      <td>0</td>\n",
              "      <td>1</td>\n",
              "      <td>1</td>\n",
              "      <td>hombre</td>\n",
              "      <td>2</td>\n",
              "      <td>3</td>\n",
              "    </tr>\n",
              "    <tr>\n",
              "      <th>26493</th>\n",
              "      <td>sin dato</td>\n",
              "      <td>sin dato</td>\n",
              "      <td>1</td>\n",
              "      <td>6</td>\n",
              "      <td>0</td>\n",
              "      <td>1</td>\n",
              "      <td>1</td>\n",
              "      <td>mujer</td>\n",
              "      <td>2</td>\n",
              "      <td>3</td>\n",
              "    </tr>\n",
              "    <tr>\n",
              "      <th>26494</th>\n",
              "      <td>sin dato</td>\n",
              "      <td>sin dato</td>\n",
              "      <td>1</td>\n",
              "      <td>6</td>\n",
              "      <td>0</td>\n",
              "      <td>2</td>\n",
              "      <td>1</td>\n",
              "      <td>hombre</td>\n",
              "      <td>2</td>\n",
              "      <td>4</td>\n",
              "    </tr>\n",
              "    <tr>\n",
              "      <th>26495</th>\n",
              "      <td>sin dato</td>\n",
              "      <td>sin dato</td>\n",
              "      <td>1</td>\n",
              "      <td>6</td>\n",
              "      <td>0</td>\n",
              "      <td>2</td>\n",
              "      <td>1</td>\n",
              "      <td>mujer</td>\n",
              "      <td>2</td>\n",
              "      <td>4</td>\n",
              "    </tr>\n",
              "  </tbody>\n",
              "</table>\n",
              "<p>26496 rows × 10 columns</p>\n",
              "</div>\n",
              "      <button class=\"colab-df-convert\" onclick=\"convertToInteractive('df-e7cc0cb6-e15f-4241-a819-e33e89800ae0')\"\n",
              "              title=\"Convert this dataframe to an interactive table.\"\n",
              "              style=\"display:none;\">\n",
              "        \n",
              "  <svg xmlns=\"http://www.w3.org/2000/svg\" height=\"24px\"viewBox=\"0 0 24 24\"\n",
              "       width=\"24px\">\n",
              "    <path d=\"M0 0h24v24H0V0z\" fill=\"none\"/>\n",
              "    <path d=\"M18.56 5.44l.94 2.06.94-2.06 2.06-.94-2.06-.94-.94-2.06-.94 2.06-2.06.94zm-11 1L8.5 8.5l.94-2.06 2.06-.94-2.06-.94L8.5 2.5l-.94 2.06-2.06.94zm10 10l.94 2.06.94-2.06 2.06-.94-2.06-.94-.94-2.06-.94 2.06-2.06.94z\"/><path d=\"M17.41 7.96l-1.37-1.37c-.4-.4-.92-.59-1.43-.59-.52 0-1.04.2-1.43.59L10.3 9.45l-7.72 7.72c-.78.78-.78 2.05 0 2.83L4 21.41c.39.39.9.59 1.41.59.51 0 1.02-.2 1.41-.59l7.78-7.78 2.81-2.81c.8-.78.8-2.07 0-2.86zM5.41 20L4 18.59l7.72-7.72 1.47 1.35L5.41 20z\"/>\n",
              "  </svg>\n",
              "      </button>\n",
              "      \n",
              "  <style>\n",
              "    .colab-df-container {\n",
              "      display:flex;\n",
              "      flex-wrap:wrap;\n",
              "      gap: 12px;\n",
              "    }\n",
              "\n",
              "    .colab-df-convert {\n",
              "      background-color: #E8F0FE;\n",
              "      border: none;\n",
              "      border-radius: 50%;\n",
              "      cursor: pointer;\n",
              "      display: none;\n",
              "      fill: #1967D2;\n",
              "      height: 32px;\n",
              "      padding: 0 0 0 0;\n",
              "      width: 32px;\n",
              "    }\n",
              "\n",
              "    .colab-df-convert:hover {\n",
              "      background-color: #E2EBFA;\n",
              "      box-shadow: 0px 1px 2px rgba(60, 64, 67, 0.3), 0px 1px 3px 1px rgba(60, 64, 67, 0.15);\n",
              "      fill: #174EA6;\n",
              "    }\n",
              "\n",
              "    [theme=dark] .colab-df-convert {\n",
              "      background-color: #3B4455;\n",
              "      fill: #D2E3FC;\n",
              "    }\n",
              "\n",
              "    [theme=dark] .colab-df-convert:hover {\n",
              "      background-color: #434B5C;\n",
              "      box-shadow: 0px 1px 3px 1px rgba(0, 0, 0, 0.15);\n",
              "      filter: drop-shadow(0px 1px 2px rgba(0, 0, 0, 0.3));\n",
              "      fill: #FFFFFF;\n",
              "    }\n",
              "  </style>\n",
              "\n",
              "      <script>\n",
              "        const buttonEl =\n",
              "          document.querySelector('#df-e7cc0cb6-e15f-4241-a819-e33e89800ae0 button.colab-df-convert');\n",
              "        buttonEl.style.display =\n",
              "          google.colab.kernel.accessAllowed ? 'block' : 'none';\n",
              "\n",
              "        async function convertToInteractive(key) {\n",
              "          const element = document.querySelector('#df-e7cc0cb6-e15f-4241-a819-e33e89800ae0');\n",
              "          const dataTable =\n",
              "            await google.colab.kernel.invokeFunction('convertToInteractive',\n",
              "                                                     [key], {});\n",
              "          if (!dataTable) return;\n",
              "\n",
              "          const docLinkHtml = 'Like what you see? Visit the ' +\n",
              "            '<a target=\"_blank\" href=https://colab.research.google.com/notebooks/data_table.ipynb>data table notebook</a>'\n",
              "            + ' to learn more about interactive tables.';\n",
              "          element.innerHTML = '';\n",
              "          dataTable['output_type'] = 'display_data';\n",
              "          await google.colab.output.renderOutput(dataTable, element);\n",
              "          const docLink = document.createElement('div');\n",
              "          docLink.innerHTML = docLinkHtml;\n",
              "          element.appendChild(docLink);\n",
              "        }\n",
              "      </script>\n",
              "    </div>\n",
              "  </div>\n",
              "  "
            ]
          },
          "metadata": {},
          "execution_count": 18
        }
      ]
    },
    {
      "cell_type": "markdown",
      "source": [
        "# ****Selección de Modelos****"
      ],
      "metadata": {
        "id": "Pu0uxqBJHMFE"
      }
    },
    {
      "cell_type": "markdown",
      "source": [
        "## Regresión Lineal"
      ],
      "metadata": {
        "id": "93H6gdsYJfhG"
      }
    },
    {
      "cell_type": "code",
      "source": [
        "med_hurto_group_df = med_hurto_group_df.drop('sexo', axis=1)\n",
        "\n",
        "temp_med_hurto_df = med_hurto_group_df[(med_hurto_group_df['codigo_comuna'] != 'sin dato')]\n",
        "new_med_hurto_df = temp_med_hurto_df[(temp_med_hurto_df['codigo_barrio'] != 'sin dato 90 santa elena')\n",
        "& (temp_med_hurto_df['codigo_barrio'] != 'sin dato 60 san cristobal')\n",
        "& (temp_med_hurto_df['codigo_barrio'] != 'sin dato 80 san antonio de prado')\n",
        "& (temp_med_hurto_df['codigo_barrio'] != 'sin dato 10 la candelaria')]\n",
        "\n",
        "#new_med_hurto_df = new_med_hurto_df.drop('codigo_barrio', axis=1)"
      ],
      "metadata": {
        "id": "WSk-mimOBI8V"
      },
      "execution_count": null,
      "outputs": []
    },
    {
      "cell_type": "markdown",
      "source": [
        "Variables para entrenar el modelo"
      ],
      "metadata": {
        "id": "ODR_tUQytVY4"
      }
    },
    {
      "cell_type": "code",
      "source": [
        "features = ['tipo_modalidad','dia_semana','festivo','tipo_medio_transp','tipo_arma','grupo_edad']"
      ],
      "metadata": {
        "id": "emg9txFMtQ71"
      },
      "execution_count": null,
      "outputs": []
    },
    {
      "cell_type": "code",
      "source": [
        "new_med_hurto_df[features + ['hurtos']].corr()"
      ],
      "metadata": {
        "id": "U2c3hS2C1IdK",
        "colab": {
          "base_uri": "https://localhost:8080/",
          "height": 269
        },
        "outputId": "c8916390-bf58-4aa0-cb0b-ceb3c6cc1146"
      },
      "execution_count": null,
      "outputs": [
        {
          "output_type": "execute_result",
          "data": {
            "text/plain": [
              "                   tipo_modalidad  dia_semana   festivo  tipo_medio_transp  \\\n",
              "tipo_modalidad           1.000000    0.017461 -0.020650           0.009157   \n",
              "dia_semana               0.017461    1.000000 -0.039773           0.018154   \n",
              "festivo                 -0.020650   -0.039773  1.000000           0.045163   \n",
              "tipo_medio_transp        0.009157    0.018154  0.045163           1.000000   \n",
              "tipo_arma               -0.174390   -0.043000  0.004412          -0.050170   \n",
              "grupo_edad              -0.041404   -0.007746  0.001016          -0.103488   \n",
              "hurtos                   0.020284   -0.003760 -0.020378           0.105939   \n",
              "\n",
              "                   tipo_arma  grupo_edad    hurtos  \n",
              "tipo_modalidad     -0.174390   -0.041404  0.020284  \n",
              "dia_semana         -0.043000   -0.007746 -0.003760  \n",
              "festivo             0.004412    0.001016 -0.020378  \n",
              "tipo_medio_transp  -0.050170   -0.103488  0.105939  \n",
              "tipo_arma           1.000000   -0.040993  0.031599  \n",
              "grupo_edad         -0.040993    1.000000  0.035129  \n",
              "hurtos              0.031599    0.035129  1.000000  "
            ],
            "text/html": [
              "\n",
              "  <div id=\"df-0a26c5f4-47d3-40b8-8327-4acd7b8934fd\">\n",
              "    <div class=\"colab-df-container\">\n",
              "      <div>\n",
              "<style scoped>\n",
              "    .dataframe tbody tr th:only-of-type {\n",
              "        vertical-align: middle;\n",
              "    }\n",
              "\n",
              "    .dataframe tbody tr th {\n",
              "        vertical-align: top;\n",
              "    }\n",
              "\n",
              "    .dataframe thead th {\n",
              "        text-align: right;\n",
              "    }\n",
              "</style>\n",
              "<table border=\"1\" class=\"dataframe\">\n",
              "  <thead>\n",
              "    <tr style=\"text-align: right;\">\n",
              "      <th></th>\n",
              "      <th>tipo_modalidad</th>\n",
              "      <th>dia_semana</th>\n",
              "      <th>festivo</th>\n",
              "      <th>tipo_medio_transp</th>\n",
              "      <th>tipo_arma</th>\n",
              "      <th>grupo_edad</th>\n",
              "      <th>hurtos</th>\n",
              "    </tr>\n",
              "  </thead>\n",
              "  <tbody>\n",
              "    <tr>\n",
              "      <th>tipo_modalidad</th>\n",
              "      <td>1.000000</td>\n",
              "      <td>0.017461</td>\n",
              "      <td>-0.020650</td>\n",
              "      <td>0.009157</td>\n",
              "      <td>-0.174390</td>\n",
              "      <td>-0.041404</td>\n",
              "      <td>0.020284</td>\n",
              "    </tr>\n",
              "    <tr>\n",
              "      <th>dia_semana</th>\n",
              "      <td>0.017461</td>\n",
              "      <td>1.000000</td>\n",
              "      <td>-0.039773</td>\n",
              "      <td>0.018154</td>\n",
              "      <td>-0.043000</td>\n",
              "      <td>-0.007746</td>\n",
              "      <td>-0.003760</td>\n",
              "    </tr>\n",
              "    <tr>\n",
              "      <th>festivo</th>\n",
              "      <td>-0.020650</td>\n",
              "      <td>-0.039773</td>\n",
              "      <td>1.000000</td>\n",
              "      <td>0.045163</td>\n",
              "      <td>0.004412</td>\n",
              "      <td>0.001016</td>\n",
              "      <td>-0.020378</td>\n",
              "    </tr>\n",
              "    <tr>\n",
              "      <th>tipo_medio_transp</th>\n",
              "      <td>0.009157</td>\n",
              "      <td>0.018154</td>\n",
              "      <td>0.045163</td>\n",
              "      <td>1.000000</td>\n",
              "      <td>-0.050170</td>\n",
              "      <td>-0.103488</td>\n",
              "      <td>0.105939</td>\n",
              "    </tr>\n",
              "    <tr>\n",
              "      <th>tipo_arma</th>\n",
              "      <td>-0.174390</td>\n",
              "      <td>-0.043000</td>\n",
              "      <td>0.004412</td>\n",
              "      <td>-0.050170</td>\n",
              "      <td>1.000000</td>\n",
              "      <td>-0.040993</td>\n",
              "      <td>0.031599</td>\n",
              "    </tr>\n",
              "    <tr>\n",
              "      <th>grupo_edad</th>\n",
              "      <td>-0.041404</td>\n",
              "      <td>-0.007746</td>\n",
              "      <td>0.001016</td>\n",
              "      <td>-0.103488</td>\n",
              "      <td>-0.040993</td>\n",
              "      <td>1.000000</td>\n",
              "      <td>0.035129</td>\n",
              "    </tr>\n",
              "    <tr>\n",
              "      <th>hurtos</th>\n",
              "      <td>0.020284</td>\n",
              "      <td>-0.003760</td>\n",
              "      <td>-0.020378</td>\n",
              "      <td>0.105939</td>\n",
              "      <td>0.031599</td>\n",
              "      <td>0.035129</td>\n",
              "      <td>1.000000</td>\n",
              "    </tr>\n",
              "  </tbody>\n",
              "</table>\n",
              "</div>\n",
              "      <button class=\"colab-df-convert\" onclick=\"convertToInteractive('df-0a26c5f4-47d3-40b8-8327-4acd7b8934fd')\"\n",
              "              title=\"Convert this dataframe to an interactive table.\"\n",
              "              style=\"display:none;\">\n",
              "        \n",
              "  <svg xmlns=\"http://www.w3.org/2000/svg\" height=\"24px\"viewBox=\"0 0 24 24\"\n",
              "       width=\"24px\">\n",
              "    <path d=\"M0 0h24v24H0V0z\" fill=\"none\"/>\n",
              "    <path d=\"M18.56 5.44l.94 2.06.94-2.06 2.06-.94-2.06-.94-.94-2.06-.94 2.06-2.06.94zm-11 1L8.5 8.5l.94-2.06 2.06-.94-2.06-.94L8.5 2.5l-.94 2.06-2.06.94zm10 10l.94 2.06.94-2.06 2.06-.94-2.06-.94-.94-2.06-.94 2.06-2.06.94z\"/><path d=\"M17.41 7.96l-1.37-1.37c-.4-.4-.92-.59-1.43-.59-.52 0-1.04.2-1.43.59L10.3 9.45l-7.72 7.72c-.78.78-.78 2.05 0 2.83L4 21.41c.39.39.9.59 1.41.59.51 0 1.02-.2 1.41-.59l7.78-7.78 2.81-2.81c.8-.78.8-2.07 0-2.86zM5.41 20L4 18.59l7.72-7.72 1.47 1.35L5.41 20z\"/>\n",
              "  </svg>\n",
              "      </button>\n",
              "      \n",
              "  <style>\n",
              "    .colab-df-container {\n",
              "      display:flex;\n",
              "      flex-wrap:wrap;\n",
              "      gap: 12px;\n",
              "    }\n",
              "\n",
              "    .colab-df-convert {\n",
              "      background-color: #E8F0FE;\n",
              "      border: none;\n",
              "      border-radius: 50%;\n",
              "      cursor: pointer;\n",
              "      display: none;\n",
              "      fill: #1967D2;\n",
              "      height: 32px;\n",
              "      padding: 0 0 0 0;\n",
              "      width: 32px;\n",
              "    }\n",
              "\n",
              "    .colab-df-convert:hover {\n",
              "      background-color: #E2EBFA;\n",
              "      box-shadow: 0px 1px 2px rgba(60, 64, 67, 0.3), 0px 1px 3px 1px rgba(60, 64, 67, 0.15);\n",
              "      fill: #174EA6;\n",
              "    }\n",
              "\n",
              "    [theme=dark] .colab-df-convert {\n",
              "      background-color: #3B4455;\n",
              "      fill: #D2E3FC;\n",
              "    }\n",
              "\n",
              "    [theme=dark] .colab-df-convert:hover {\n",
              "      background-color: #434B5C;\n",
              "      box-shadow: 0px 1px 3px 1px rgba(0, 0, 0, 0.15);\n",
              "      filter: drop-shadow(0px 1px 2px rgba(0, 0, 0, 0.3));\n",
              "      fill: #FFFFFF;\n",
              "    }\n",
              "  </style>\n",
              "\n",
              "      <script>\n",
              "        const buttonEl =\n",
              "          document.querySelector('#df-0a26c5f4-47d3-40b8-8327-4acd7b8934fd button.colab-df-convert');\n",
              "        buttonEl.style.display =\n",
              "          google.colab.kernel.accessAllowed ? 'block' : 'none';\n",
              "\n",
              "        async function convertToInteractive(key) {\n",
              "          const element = document.querySelector('#df-0a26c5f4-47d3-40b8-8327-4acd7b8934fd');\n",
              "          const dataTable =\n",
              "            await google.colab.kernel.invokeFunction('convertToInteractive',\n",
              "                                                     [key], {});\n",
              "          if (!dataTable) return;\n",
              "\n",
              "          const docLinkHtml = 'Like what you see? Visit the ' +\n",
              "            '<a target=\"_blank\" href=https://colab.research.google.com/notebooks/data_table.ipynb>data table notebook</a>'\n",
              "            + ' to learn more about interactive tables.';\n",
              "          element.innerHTML = '';\n",
              "          dataTable['output_type'] = 'display_data';\n",
              "          await google.colab.output.renderOutput(dataTable, element);\n",
              "          const docLink = document.createElement('div');\n",
              "          docLink.innerHTML = docLinkHtml;\n",
              "          element.appendChild(docLink);\n",
              "        }\n",
              "      </script>\n",
              "    </div>\n",
              "  </div>\n",
              "  "
            ]
          },
          "metadata": {},
          "execution_count": 22
        }
      ]
    },
    {
      "cell_type": "markdown",
      "source": [
        "Creación de Datasets de entrenamiento y pruebas"
      ],
      "metadata": {
        "id": "wcvesDUGtkIp"
      }
    },
    {
      "cell_type": "code",
      "source": [
        "scaler = StandardScaler()"
      ],
      "metadata": {
        "id": "cEV2TWCiahzp"
      },
      "execution_count": null,
      "outputs": []
    },
    {
      "cell_type": "code",
      "source": [
        "X = new_med_hurto_df[features]"
      ],
      "metadata": {
        "id": "cr5AsmhTtjnm"
      },
      "execution_count": null,
      "outputs": []
    },
    {
      "cell_type": "code",
      "source": [
        "Y = new_med_hurto_df['hurtos']"
      ],
      "metadata": {
        "id": "OrpP5yj-W4oS"
      },
      "execution_count": null,
      "outputs": []
    },
    {
      "cell_type": "code",
      "source": [
        "X_train, X_test, Y_train, Y_test = train_test_split(X, Y, test_size = 0.2, random_state = 1)"
      ],
      "metadata": {
        "id": "qXAAxp-VuElB"
      },
      "execution_count": null,
      "outputs": []
    },
    {
      "cell_type": "code",
      "source": [
        "X_train.shape"
      ],
      "metadata": {
        "id": "BwBTFPhquFrV",
        "colab": {
          "base_uri": "https://localhost:8080/"
        },
        "outputId": "b8c2e480-76e6-4aa5-9b8b-8b8bd66b31d2"
      },
      "execution_count": null,
      "outputs": [
        {
          "output_type": "execute_result",
          "data": {
            "text/plain": [
              "(21104, 6)"
            ]
          },
          "metadata": {},
          "execution_count": 28
        }
      ]
    },
    {
      "cell_type": "code",
      "source": [
        "X_test.shape"
      ],
      "metadata": {
        "id": "G_a9AOo7uItE",
        "colab": {
          "base_uri": "https://localhost:8080/"
        },
        "outputId": "914d2872-7227-4a31-81b0-9f0a7f5dfdd5"
      },
      "execution_count": null,
      "outputs": [
        {
          "output_type": "execute_result",
          "data": {
            "text/plain": [
              "(5276, 6)"
            ]
          },
          "metadata": {},
          "execution_count": 29
        }
      ]
    },
    {
      "cell_type": "code",
      "source": [
        "X_train_sc = scaler.fit_transform(X_train)\n",
        "X_test_sc = scaler.transform(X_test)"
      ],
      "metadata": {
        "id": "z8Liu_PafT_D"
      },
      "execution_count": null,
      "outputs": []
    },
    {
      "cell_type": "markdown",
      "source": [
        "Entrenamiento del modelo"
      ],
      "metadata": {
        "id": "pyDFelU4FnWc"
      }
    },
    {
      "cell_type": "code",
      "source": [
        "regr = LinearRegression()"
      ],
      "metadata": {
        "id": "BcuDQbJbF6mM"
      },
      "execution_count": null,
      "outputs": []
    },
    {
      "cell_type": "code",
      "source": [
        "regr.fit(X_train_sc, Y_train)"
      ],
      "metadata": {
        "id": "tSNG3rqXF_Xm",
        "colab": {
          "base_uri": "https://localhost:8080/"
        },
        "outputId": "dfb13825-0f41-426e-a5d9-e402d5214287"
      },
      "execution_count": null,
      "outputs": [
        {
          "output_type": "execute_result",
          "data": {
            "text/plain": [
              "LinearRegression()"
            ]
          },
          "metadata": {},
          "execution_count": 32
        }
      ]
    },
    {
      "cell_type": "code",
      "source": [
        "regr.coef_"
      ],
      "metadata": {
        "id": "Dtg7VjaHGF2D",
        "colab": {
          "base_uri": "https://localhost:8080/"
        },
        "outputId": "cfa8fb7d-6844-403c-a1b7-1dcc66219e17"
      },
      "execution_count": null,
      "outputs": [
        {
          "output_type": "execute_result",
          "data": {
            "text/plain": [
              "array([ 1.11759878, -0.10069865, -0.8970104 ,  4.07372971,  1.68113097,\n",
              "        1.78294822])"
            ]
          },
          "metadata": {},
          "execution_count": 33
        }
      ]
    },
    {
      "cell_type": "code",
      "source": [
        "regr.intercept_"
      ],
      "metadata": {
        "id": "5RpQXg3tGN32",
        "colab": {
          "base_uri": "https://localhost:8080/"
        },
        "outputId": "d002d132-61df-4d33-d1a7-a603ff975af8"
      },
      "execution_count": null,
      "outputs": [
        {
          "output_type": "execute_result",
          "data": {
            "text/plain": [
              "10.642721758908264"
            ]
          },
          "metadata": {},
          "execution_count": 34
        }
      ]
    },
    {
      "cell_type": "markdown",
      "source": [
        "Evaluando el modelo"
      ],
      "metadata": {
        "id": "sGaBM76eGP-u"
      }
    },
    {
      "cell_type": "code",
      "source": [
        "preds_train = regr.predict(X_train_sc)\n",
        "preds_test = regr.predict(X_test_sc)"
      ],
      "metadata": {
        "id": "luuYc1QHGTCv"
      },
      "execution_count": null,
      "outputs": []
    },
    {
      "cell_type": "code",
      "source": [
        "mean_absolute_error(Y_train, preds_train), mean_absolute_error(Y_test, preds_test)"
      ],
      "metadata": {
        "id": "liEZCP9xGok5",
        "colab": {
          "base_uri": "https://localhost:8080/"
        },
        "outputId": "7a160efb-9e8a-41eb-eed6-37f923d288fd"
      },
      "execution_count": null,
      "outputs": [
        {
          "output_type": "execute_result",
          "data": {
            "text/plain": [
              "(11.35428069247011, 11.237129089884425)"
            ]
          },
          "metadata": {},
          "execution_count": 36
        }
      ]
    },
    {
      "cell_type": "markdown",
      "source": [
        "# ****Conclusión del Modelo****"
      ],
      "metadata": {
        "id": "g99w1aI-IFhe"
      }
    },
    {
      "cell_type": "markdown",
      "source": [
        "De acuerdo a alas caracteristicas del dataset, la variable objetivo y el resultado obtenido en error en entrenamiento y test de 11.35 y 11.23, concluimos que teniamos un resultado con underfitting y que era muy complejo predecir el número de hurtos en algunos barrios ya que los datos en estos eran pocos por ejemplo algunos barrios para un mes tenían 5 registros con hurtos entre 1 - 5, comparados con otros barrios que alcanzaban a llegar a 38 hurtos, verificando tambien el análisis exploratorio realizado en la primera entrega: \n",
        "\n",
        "<img src=\"https://lh3.google.com/u/0/d/1-caUvCXaPrnt5DYd1MmBQIt9u4wIOMAv=w1920-h859-iv1\" ><br> \n",
        "\n",
        "Los datos de las diferentes Zonas y en especial de los barrios no eran lo suficientemente representativos para realizar el análisis. "
      ],
      "metadata": {
        "id": "QXXOGY05IpXM"
      }
    },
    {
      "cell_type": "markdown",
      "metadata": {
        "id": "3hk9mZ--n0oc"
      },
      "source": [
        "### Bibliografía"
      ]
    },
    {
      "cell_type": "markdown",
      "metadata": {
        "id": "cL1tLx46CSZ7"
      },
      "source": [
        "<sup>1</sup> Hurto a persona - Alcaldía de Medellín http://medata.gov.co/dataset/hurto-persona"
      ]
    }
  ],
  "metadata": {
    "colab": {
      "collapsed_sections": [],
      "provenance": []
    },
    "kernelspec": {
      "display_name": "Python 3",
      "name": "python3"
    },
    "language_info": {
      "name": "python"
    }
  },
  "nbformat": 4,
  "nbformat_minor": 0
}